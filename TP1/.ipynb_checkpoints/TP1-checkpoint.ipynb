{
 "cells": [
  {
   "cell_type": "markdown",
   "metadata": {},
   "source": [
    "## TP :Linear regression model"
   ]
  },
  {
   "cell_type": "markdown",
   "metadata": {},
   "source": [
    "#### EX1"
   ]
  },
  {
   "cell_type": "code",
   "execution_count": 1,
   "metadata": {
    "collapsed": true
   },
   "outputs": [],
   "source": [
    "import pandas as pd \n",
    "import matplotlib.pyplot as plt\n",
    "import numpy as np\n",
    "import math"
   ]
  },
  {
   "cell_type": "markdown",
   "metadata": {},
   "source": [
    "Import Data"
   ]
  },
  {
   "cell_type": "code",
   "execution_count": 2,
   "metadata": {},
   "outputs": [
    {
     "data": {
      "text/html": [
       "<div>\n",
       "<style>\n",
       "    .dataframe thead tr:only-child th {\n",
       "        text-align: right;\n",
       "    }\n",
       "\n",
       "    .dataframe thead th {\n",
       "        text-align: left;\n",
       "    }\n",
       "\n",
       "    .dataframe tbody tr th {\n",
       "        vertical-align: top;\n",
       "    }\n",
       "</style>\n",
       "<table border=\"1\" class=\"dataframe\">\n",
       "  <thead>\n",
       "    <tr style=\"text-align: right;\">\n",
       "      <th></th>\n",
       "      <th>year</th>\n",
       "      <th>gnp</th>\n",
       "      <th>invest</th>\n",
       "      <th>cpi</th>\n",
       "      <th>interest</th>\n",
       "    </tr>\n",
       "  </thead>\n",
       "  <tbody>\n",
       "    <tr>\n",
       "      <th>0</th>\n",
       "      <td>1968</td>\n",
       "      <td>873.4</td>\n",
       "      <td>133.3</td>\n",
       "      <td>82.54</td>\n",
       "      <td>5.16</td>\n",
       "    </tr>\n",
       "    <tr>\n",
       "      <th>1</th>\n",
       "      <td>1969</td>\n",
       "      <td>944.0</td>\n",
       "      <td>149.3</td>\n",
       "      <td>86.79</td>\n",
       "      <td>5.87</td>\n",
       "    </tr>\n",
       "    <tr>\n",
       "      <th>2</th>\n",
       "      <td>1970</td>\n",
       "      <td>992.7</td>\n",
       "      <td>144.2</td>\n",
       "      <td>91.45</td>\n",
       "      <td>5.95</td>\n",
       "    </tr>\n",
       "    <tr>\n",
       "      <th>3</th>\n",
       "      <td>1971</td>\n",
       "      <td>1077.6</td>\n",
       "      <td>166.4</td>\n",
       "      <td>96.01</td>\n",
       "      <td>4.88</td>\n",
       "    </tr>\n",
       "    <tr>\n",
       "      <th>4</th>\n",
       "      <td>1972</td>\n",
       "      <td>1185.9</td>\n",
       "      <td>195.0</td>\n",
       "      <td>100.00</td>\n",
       "      <td>4.50</td>\n",
       "    </tr>\n",
       "  </tbody>\n",
       "</table>\n",
       "</div>"
      ],
      "text/plain": [
       "   year     gnp  invest     cpi  interest\n",
       "0  1968   873.4   133.3   82.54      5.16\n",
       "1  1969   944.0   149.3   86.79      5.87\n",
       "2  1970   992.7   144.2   91.45      5.95\n",
       "3  1971  1077.6   166.4   96.01      4.88\n",
       "4  1972  1185.9   195.0  100.00      4.50"
      ]
     },
     "execution_count": 2,
     "metadata": {},
     "output_type": "execute_result"
    }
   ],
   "source": [
    "df = pd.read_csv('invest.txt',sep=' ')\n",
    "df.head()"
   ]
  },
  {
   "cell_type": "markdown",
   "metadata": {},
   "source": [
    "#### EX2"
   ]
  },
  {
   "cell_type": "markdown",
   "metadata": {},
   "source": [
    "Plot data with GNP and invest\n"
   ]
  },
  {
   "cell_type": "code",
   "execution_count": 3,
   "metadata": {},
   "outputs": [
    {
     "data": {
      "text/plain": [
       "<matplotlib.collections.PathCollection at 0x7f5dffa76550>"
      ]
     },
     "execution_count": 3,
     "metadata": {},
     "output_type": "execute_result"
    },
    {
     "data": {
      "image/png": "[encoded data removed]",
      "text/plain": [
       "<matplotlib.figure.Figure at 0x7f5e078ed2e8>"
      ]
     },
     "metadata": {
      "needs_background": "light"
     },
     "output_type": "display_data"
    }
   ],
   "source": [
    "plt.scatter(x=df ['gnp'],y=df['invest'])"
   ]
  },
  {
   "cell_type": "markdown",
   "metadata": {},
   "source": [
    "#### change to type log "
   ]
  },
  {
   "cell_type": "code",
   "execution_count": 4,
   "metadata": {},
   "outputs": [
    {
     "name": "stdout",
     "output_type": "stream",
     "text": [
      "0     6.772394\n",
      "1     6.850126\n",
      "2     6.900429\n",
      "3     6.982492\n",
      "4     7.078257\n",
      "5     7.190224\n",
      "6     7.268362\n",
      "7     7.345494\n",
      "8     7.448916\n",
      "9     7.559195\n",
      "10    7.679667\n",
      "11    7.790613\n",
      "12    7.875917\n",
      "13    7.985382\n",
      "14    8.025353\n",
      "Name: gnp, dtype: float64 0     4.892602\n",
      "1     5.005958\n",
      "2     4.971201\n",
      "3     5.114395\n",
      "4     5.273000\n",
      "5     5.437209\n",
      "6     5.432411\n",
      "7     5.328361\n",
      "8     5.552572\n",
      "9     5.781052\n",
      "10    5.957391\n",
      "11    6.047372\n",
      "12    5.997198\n",
      "13    6.155919\n",
      "14    6.044768\n",
      "Name: invest, dtype: float64\n"
     ]
    }
   ],
   "source": [
    "# x \n",
    "gnp_log     = np.log(df['gnp'])\n",
    "# y\n",
    "invest_log  = np.log(df['invest'])\n",
    "print(gnp_log,invest_log)"
   ]
  },
  {
   "cell_type": "markdown",
   "metadata": {},
   "source": [
    "#### EX3"
   ]
  },
  {
   "cell_type": "markdown",
   "metadata": {},
   "source": []
  },
  {
   "cell_type": "code",
   "execution_count": 5,
   "metadata": {},
   "outputs": [
    {
     "name": "stdout",
     "output_type": "stream",
     "text": [
      "slope b1 \n",
      " 1.015281401598871\n",
      "intercept b0  \n",
      " -1.9635913352301833\n",
      "sigma_squrare \n",
      " 0.0076763385554603995\n",
      "Var_intercept b0 \n",
      " 0.167728967726\n",
      "Var_slope b1 \n",
      " 0.0030672833742692684\n",
      "Standard derivation b0 \n",
      " 0.409547271662\n",
      "Standard derivation b1 \n",
      " 0.0553830603549\n",
      "the determination parametor R^2 \n",
      " 0.9627572956057855\n"
     ]
    }
   ],
   "source": [
    "#b1\n",
    "slope     = np.sum((gnp_log-np.mean(gnp_log)) * (invest_log-np.mean(invest_log)))/np.sum((gnp_log-np.mean(gnp_log))**2)\n",
    "#b0\n",
    "intercept = np.mean(invest_log)-slope * np.mean(gnp_log)\n",
    "#estimator sigma^2\n",
    "sigma_squrare       =  1/(len(invest_log)-2)*np.sum(np.square(invest_log-(intercept+slope*gnp_log)))\n",
    "#sigma\n",
    "sigma =np.sqrt(sigma_squrare)\n",
    "#Variance (b0)\n",
    "Var_intercept = sigma_squrare*(1/len(gnp_log)+np.square(np.mean(gnp_log))/np.sum(np.square(gnp_log-np.mean(gnp_log))) ) \n",
    "#Variance (b1)\n",
    "Var_slope  = sigma_squrare/np.sum(np.square(gnp_log-np.mean(gnp_log)))\n",
    "#Standard derivation (b0)\n",
    "Sd_intercept = np.sqrt(Var_intercept) \n",
    "#Standard derivation (b1)in\n",
    "Sd_slope = np.sqrt(Var_slope)\n",
    "#the determination coefficient\n",
    "R_2 = 1- np.sum(np.square(invest_log-(intercept+slope*gnp_log)))/np.sum(np.square(invest_log-np.mean(invest_log)))\n",
    "#print these parametor\n",
    "print(\"slope b1 \\n\",slope)\n",
    "print(\"intercept b0  \\n\",intercept)\n",
    "print(\"sigma_squrare \\n\",sigma_squrare)\n",
    "print(\"Var_intercept b0 \\n\",Var_intercept)\n",
    "print(\"Var_slope b1 \\n\",Var_slope)\n",
    "print(\"Standard derivation b0 \\n\",Sd_intercept)\n",
    "print(\"Standard derivation b1 \\n\",Sd_slope)\n",
    "print(\"the determination parametor R^2 \\n\",R_2)\n"
   ]
  },
  {
   "cell_type": "markdown",
   "metadata": {},
   "source": [
    "#### EX4"
   ]
  },
  {
   "cell_type": "code",
   "execution_count": 6,
   "metadata": {},
   "outputs": [
    {
     "name": "stdout",
     "output_type": "stream",
     "text": [
      "value of the test statistic 18.3319844569\n",
      "p-value 1.1363709973e-10\n"
     ]
    }
   ],
   "source": [
    "from scipy.stats import t \n",
    "n = len(gnp_log)\n",
    "Ts = slope/np.sqrt(Var_slope)\n",
    "p_value = 2*(1-t.cdf(Ts,df=n-2)) # max = 1 \n",
    "print('value of the test statistic', Ts)\n",
    "print('p-value',p_value)"
   ]
  },
  {
   "cell_type": "code",
   "execution_count": 7,
   "metadata": {},
   "outputs": [
    {
     "data": {
      "text/latex": [
       "The null hypothesis being H0:$${\\beta}_{j}=0$$ \n",
       "so with the formula,  $$Ts =  \\frac{\\widehat{\\beta}_{j}-{\\beta}_{j}}{V(\\sqrt{\\widehat{\\beta}_{j}})}$$\n",
       "and $$Ts = \\frac{\\widehat{\\beta}_{j}}{V(\\sqrt{\\widehat{\\beta}_{j}})}$$\n",
       "with the calculation, we found the Value of the test statistic Ts = 18.3319\n",
       "Then, we compute p value.  \n",
       "We find that p-value <<1."
      ],
      "text/plain": [
       "<IPython.core.display.Latex object>"
      ]
     },
     "metadata": {},
     "output_type": "display_data"
    }
   ],
   "source": [
    "%%latex\n",
    "The null hypothesis being H0:$${\\beta}_{j}=0$$ \n",
    "so with the formula,  $$Ts =  \\frac{\\widehat{\\beta}_{j}-{\\beta}_{j}}{V(\\sqrt{\\widehat{\\beta}_{j}})}$$\n",
    "and $$Ts = \\frac{\\widehat{\\beta}_{j}}{V(\\sqrt{\\widehat{\\beta}_{j}})}$$\n",
    "with the calculation, we found the Value of the test statistic Ts = 18.3319\n",
    "Then, we compute p value.  \n",
    "We find that p-value <<1.\n"
   ]
  },
  {
   "cell_type": "markdown",
   "metadata": {},
   "source": [
    "#### EX5"
   ]
  },
  {
   "cell_type": "code",
   "execution_count": 8,
   "metadata": {},
   "outputs": [
    {
     "name": "stdout",
     "output_type": "stream",
     "text": [
      "investment_log : 5.04972412632\n",
      "investment :  155.979427931\n"
     ]
    }
   ],
   "source": [
    "#for gnp =1000 estimate the necessayr investment \n",
    "gnp_value = 1000\n",
    "gnp_log_value  =np.log(gnp_value)\n",
    "investment_log = intercept +slope*gnp_log_value\n",
    "print('investment_log :',investment_log)\n",
    "print('investment : ',np.exp(investment_log))"
   ]
  },
  {
   "cell_type": "code",
   "execution_count": 9,
   "metadata": {},
   "outputs": [
    {
     "name": "stdout",
     "output_type": "stream",
     "text": [
      "quantile left: -1.77093339599\n",
      "quantile right: 1.77093339599\n"
     ]
    }
   ],
   "source": [
    "alpha = 1-0.9\n",
    "quantile_left = -t.ppf(1-alpha/2,df=n-2) #1-alpha = 90% so 1-2/alpha = 0.95\n",
    "quantile_right = t.ppf(1-alpha/2,df=n-2 )#p =1?\n",
    "print('quantile left:',quantile_left)\n",
    "print('quantile right:',quantile_right)"
   ]
  },
  {
   "cell_type": "markdown",
   "metadata": {},
   "source": [
    "value if the tet statistic = 18.3319 and it is not in the interval of -1.77 and 1.77, so we can reject H0\n"
   ]
  },
  {
   "cell_type": "code",
   "execution_count": 10,
   "metadata": {},
   "outputs": [
    {
     "name": "stdout",
     "output_type": "stream",
     "text": [
      "CI_left_log: 4.98822284597\n",
      "CI_right_log: 5.11122540666\n",
      "CI_left 146.675526734\n",
      "CI_right 165.873492868\n",
      "PI_left_log: 4.88282002344\n",
      "PI_right_log: 5.21662822919\n",
      "PI_left 132.002389334\n",
      "PI_right 184.311678451\n"
     ]
    }
   ],
   "source": [
    "#construction of confidence\n",
    "CI_factor= quantile_right*sigma*np.sqrt(1/n+(gnp_log_value-np.mean(gnp_log))**2/np.sum((gnp_log-np.mean(gnp_log))**2))  \n",
    "CI_left  = investment_log- CI_factor                           \n",
    "CI_right = investment_log+ CI_factor\n",
    "print('CI_left_log:',CI_left)\n",
    "print('CI_right_log:',CI_right)\n",
    "print('CI_left',np.exp(CI_left))\n",
    "print('CI_right',np.exp(CI_right))\n",
    "#construction of prediction intervals\n",
    "PI_factor=t.ppf(0.95,df=n-2)*sigma*np.sqrt(1+1/n+(gnp_log_value-np.mean(gnp_log))**2/np.sum((gnp_log-np.mean(gnp_log))**2))                               \n",
    "PI_left  = investment_log-PI_factor\n",
    "PI_right = investment_log+PI_factor\n",
    "print('PI_left_log:',PI_left)\n",
    "print('PI_right_log:',PI_right)\n",
    "print('PI_left',np.exp(PI_left))\n",
    "print('PI_right',np.exp(PI_right))"
   ]
  },
  {
   "cell_type": "markdown",
   "metadata": {},
   "source": [
    "#### EX6"
   ]
  },
  {
   "cell_type": "code",
   "execution_count": 11,
   "metadata": {},
   "outputs": [
    {
     "data": {
      "text/plain": [
       "Text(0,0.5,'invest log')"
      ]
     },
     "execution_count": 11,
     "metadata": {},
     "output_type": "execute_result"
    },
    {
     "data": {
      "image/png": "[encoded data removed]",
      "text/plain": [
       "<matplotlib.figure.Figure at 0x7f5df7a16ef0>"
      ]
     },
     "metadata": {
      "needs_background": "light"
     },
     "output_type": "display_data"
    }
   ],
   "source": [
    "def f(x):\n",
    "    return slope*x+intercept\n",
    "plt.plot(gnp_log,invest_log,'og')\n",
    "plt.plot(gnp_log,f(gnp_log),'r',label='estimated regression line')\n",
    "def CI_factor(x):\n",
    "    return quantile_right*sigma*np.sqrt(1/n+(gnp_log-np.mean(gnp_log))**2/np.sum((gnp_log-np.mean(gnp_log))**2))  \n",
    "def PI_factor(x):\n",
    "    return t.ppf(0.95,df=n-2)*sigma*np.sqrt(1+1/n+(gnp_log-np.mean(gnp_log))**2/np.sum((gnp_log-np.mean(gnp_log))**2))                               \n",
    "\n",
    "plt.fill_between(gnp_log,f(gnp_log)+CI_factor(gnp_log),f(gnp_log)-CI_factor(gnp_log),alpha=0.5,label='Confidence intervals')\n",
    "plt.fill_between(gnp_log,f(gnp_log)+PI_factor(gnp_log),f(gnp_log)-PI_factor(gnp_log),alpha=0.5,label='Prediction intervals')\n",
    "plt.legend()\n",
    "plt.xlabel(\"gnp log\")\n",
    "plt.ylabel(\"invest log\")"
   ]
  },
  {
   "cell_type": "markdown",
   "metadata": {},
   "source": [
    "#### EX7\n"
   ]
  },
  {
   "cell_type": "code",
   "execution_count": 12,
   "metadata": {},
   "outputs": [
    {
     "name": "stdout",
     "output_type": "stream",
     "text": [
      "intercept of sklearn model \n",
      " -1.96359133523\n",
      "slope of sklearn model \n",
      " 1.0152814016\n",
      "determination coefficient \n",
      " 0.962757295606\n"
     ]
    }
   ],
   "source": [
    "from sklearn.linear_model import LinearRegression\n",
    "model = LinearRegression()\n",
    "model.fit(gnp_log.values.reshape(-1,1),invest_log.values.reshape(-1,1))\n",
    "intercept_sk = model.intercept_[0]\n",
    "print('intercept of sklearn model \\n',intercept_sk)\n",
    "slope_sk     = model.coef_[0][0]\n",
    "print('slope of sklearn model \\n',slope_sk)\n",
    "determination_sk = model.score(gnp_log.values.reshape(-1,1),invest_log.values.reshape(-1,1))\n",
    "print('determination coefficient \\n',determination_sk)\n"
   ]
  },
  {
   "cell_type": "code",
   "execution_count": 13,
   "metadata": {},
   "outputs": [
    {
     "name": "stdout",
     "output_type": "stream",
     "text": [
      "predict the necessary investment for the GNP =1000:  [[ 155.97942793]]\n"
     ]
    }
   ],
   "source": [
    "# predict \n",
    "pre_log = model.predict(np.log(1000))\n",
    "pre_ori = np.exp(pre_log)\n",
    "print('predict the necessary investment for the GNP =1000: ',pre_ori)"
   ]
  },
  {
   "cell_type": "markdown",
   "metadata": {},
   "source": [
    "So by comparing the result in question3, we find that the previous result coincide with the ones obtained using existing implementation'"
   ]
  },
  {
   "cell_type": "markdown",
   "metadata": {},
   "source": [
    "#### EX8"
   ]
  },
  {
   "cell_type": "code",
   "execution_count": 14,
   "metadata": {},
   "outputs": [
    {
     "data": {
      "text/plain": [
       "Text(0,0.5,'invest log')"
      ]
     },
     "execution_count": 14,
     "metadata": {},
     "output_type": "execute_result"
    },
    {
     "data": {
      "image/png": "[encoded data removed]",
      "text/plain": [
       "<matplotlib.figure.Figure at 0x7f5df7a01828>"
      ]
     },
     "metadata": {
      "needs_background": "light"
     },
     "output_type": "display_data"
    }
   ],
   "source": [
    "def f(x):\n",
    "    return slope_sk*gnp_log+intercept_sk\n",
    "plt.plot(gnp_log,f(gnp_log),'r',label = 'the regression line')\n",
    "plt.plot(gnp_log,invest_log,'go',label ='data')\n",
    "#for the data 1000, we predict it with blue \n",
    "plt.plot(np.log(1000),pre_log,'X',label='the prediction of the point 1000')\n",
    "plt.legend()\n",
    "plt.xlabel(\"gnp log\")\n",
    "plt.ylabel(\"invest log\")"
   ]
  },
  {
   "cell_type": "markdown",
   "metadata": {},
   "source": [
    "#### EX9\n"
   ]
  },
  {
   "cell_type": "code",
   "execution_count": 15,
   "metadata": {
    "collapsed": true
   },
   "outputs": [],
   "source": [
    "#read data \n",
    "interest  = df['interest']"
   ]
  },
  {
   "cell_type": "code",
   "execution_count": 16,
   "metadata": {},
   "outputs": [
    {
     "name": "stdout",
     "output_type": "stream",
     "text": [
      "X \n",
      " [[  1.           6.77239364   5.16      ]\n",
      " [  1.           6.85012617   5.87      ]\n",
      " [  1.           6.9004285    5.95      ]\n",
      " [  1.           6.98249163   4.88      ]\n",
      " [  1.           7.07825726   4.5       ]\n",
      " [  1.           7.19022378   6.44      ]\n",
      " [  1.           7.26836248   7.83      ]\n",
      " [  1.           7.34549395   6.25      ]\n",
      " [  1.           7.4489161    5.5       ]\n",
      " [  1.           7.55919466   5.46      ]\n",
      " [  1.           7.67966743   7.46      ]\n",
      " [  1.           7.79061331  10.28      ]\n",
      " [  1.           7.87591714  11.77      ]\n",
      " [  1.           7.98538224  13.42      ]\n",
      " [  1.           8.02535287  11.02      ]]\n",
      "The gram matrix is: \n",
      " [[  1.           7.38352141   7.45266667]\n",
      " [  7.38352141  54.68323179  55.94590287]\n",
      " [  7.45266667  55.94590287  62.92371333]]\n",
      "inversion of inv_gramis: \n",
      " [[  8.03374345e+02  -1.23124121e+02   1.43190679e+01]\n",
      " [ -1.23124121e+02   1.90722187e+01  -2.37445401e+00]\n",
      " [  1.43190679e+01  -2.37445401e+00   4.31089208e-01]]\n"
     ]
    }
   ],
   "source": [
    "import numpy.linalg as nl\n",
    "\n",
    "X0 = np.vstack((np.array([1]*len(invest_log)),gnp_log.values,interest.values))\n",
    "X  = np.transpose(X0)\n",
    "print(\"X \\n\",X)\n",
    "gram_M = 1/len(interest)*np.dot(np.transpose(X),X)\n",
    "print('The gram matrix is: \\n', gram_M)\n",
    "inv_gram = nl.inv(gram_M)\n",
    "print('inversion of inv_gramis: \\n',inv_gram)\n"
   ]
  },
  {
   "cell_type": "markdown",
   "metadata": {},
   "source": [
    "The gram matrix is inversible, so it means that it's a full rank matrix "
   ]
  },
  {
   "cell_type": "markdown",
   "metadata": {},
   "source": [
    "#### EX10"
   ]
  },
  {
   "cell_type": "code",
   "execution_count": 17,
   "metadata": {},
   "outputs": [
    {
     "name": "stdout",
     "output_type": "stream",
     "text": [
      "b0:  -2.18045472591\n",
      "b1:  1.05124269132\n",
      "b2:  -0.0065288794061\n"
     ]
    }
   ],
   "source": [
    "p = 2\n",
    "regression_coeff = np.dot(np.dot(nl.inv(np.dot(X.T,X)), X.T), invest_log)\n",
    "b0 = regression_coeff[0]\n",
    "b1 = regression_coeff[1]\n",
    "b2 = regression_coeff[2]\n",
    "print('b0: ', regression_coeff[0])\n",
    "print('b1: ', regression_coeff[1])\n",
    "print('b2: ', regression_coeff[2])\n"
   ]
  },
  {
   "cell_type": "code",
   "execution_count": 18,
   "metadata": {},
   "outputs": [
    {
     "data": {
      "text/plain": [
       "0.008192432955519786"
      ]
     },
     "execution_count": 18,
     "metadata": {},
     "output_type": "execute_result"
    }
   ],
   "source": [
    "sigma_square_new = (1/(len(invest_log)-(2+1)))*np.sum((invest_log-(np.dot(regression_coeff,X.T)))**2)\n",
    "sigma_square_new"
   ]
  },
  {
   "cell_type": "code",
   "execution_count": 19,
   "metadata": {},
   "outputs": [
    {
     "data": {
      "text/plain": [
       "array([[  4.38772697e-01,  -6.72457405e-02,   7.82053357e-03],\n",
       "       [ -6.72457405e-02,   1.04165249e-02,  -1.29683702e-03],\n",
       "       [  7.82053357e-03,  -1.29683702e-03,   2.35444629e-04]])"
      ]
     },
     "execution_count": 19,
     "metadata": {},
     "output_type": "execute_result"
    }
   ],
   "source": [
    "Gram = sigma_square_new*nl.inv(np.dot(X.T,X))\n",
    "Gram"
   ]
  },
  {
   "cell_type": "code",
   "execution_count": 20,
   "metadata": {},
   "outputs": [
    {
     "name": "stdout",
     "output_type": "stream",
     "text": [
      "the standard deviation for b0, 0.662399197796\n",
      "the standard deviation for b1, 0.102061378062\n",
      "the standard deviation for b2, 0.0153442050656\n"
     ]
    }
   ],
   "source": [
    "st_dev0 = np.sqrt(Gram[0][0])\n",
    "st_dev1 = np.sqrt(Gram[1][1])\n",
    "st_dev2 = np.sqrt(Gram[2][2])\n",
    "print('the standard deviation for b0,',st_dev0)\n",
    "print('the standard deviation for b1,',st_dev1)\n",
    "print('the standard deviation for b2,',st_dev2)"
   ]
  },
  {
   "cell_type": "code",
   "execution_count": 21,
   "metadata": {},
   "outputs": [
    {
     "name": "stdout",
     "output_type": "stream",
     "text": [
      "determination_coeff \n",
      " 0.9633108306726244\n"
     ]
    }
   ],
   "source": [
    "determination_coeff = 1-np.sum((invest_log-(np.dot(X, regression_coeff.T)))**2) / np.sum((invest_log-np.mean(invest_log))**2)\n",
    "print('determination_coeff \\n',determination_coeff)"
   ]
  },
  {
   "cell_type": "code",
   "execution_count": 22,
   "metadata": {},
   "outputs": [
    {
     "name": "stdout",
     "output_type": "stream",
     "text": [
      "test_significance0 \n",
      ": -3.29175327079\n",
      "test_significance1 \n",
      ": 10.3001028526\n",
      "test_significance2 \n",
      ": -0.425494796126\n"
     ]
    }
   ],
   "source": [
    "test_significance0 = b0/st_dev0 \n",
    "test_significance1 = b1/st_dev1 \n",
    "test_significance2 = b2/st_dev2\n",
    "print('test_significance0 \\n:',test_significance0)\n",
    "print('test_significance1 \\n:',test_significance1)\n",
    "print('test_significance2 \\n:',test_significance2)"
   ]
  },
  {
   "cell_type": "code",
   "execution_count": 23,
   "metadata": {},
   "outputs": [
    {
     "name": "stdout",
     "output_type": "stream",
     "text": [
      "P-value 0 : \n",
      " 0.00643836705092\n",
      "P-value 1 : \n",
      " 2.59951684844e-07\n",
      "P-value 2 : \n",
      " 0.678007141882\n"
     ]
    }
   ],
   "source": [
    "n = len(invest_log)\n",
    "p_value0 = 2*min((1- t.cdf(test_significance0, df = n-(2+1))), t.cdf(test_significance0, df = n-(2+1)))\n",
    "p_value1 = 2*min((1- t.cdf(test_significance1, df = n-(2+1))), t.cdf(test_significance1, df = n-(2+1)))\n",
    "p_value2 = 2*min((1- t.cdf(test_significance2, df = n-(2+1))), t.cdf(test_significance2, df = n-(2+1)))\n",
    "print('P-value 0 : \\n',p_value0)\n",
    "print('P-value 1 : \\n',p_value1)\n",
    "print('P-value 2 : \\n',p_value2)"
   ]
  },
  {
   "cell_type": "markdown",
   "metadata": {},
   "source": [
    "if p-value is so small, we will reject the p-value. In our case, The p value of ${\\beta}_{0}$ and ${\\beta}_{1}$ are small and ${\\beta}_{0}$ and ${\\beta}_{1}$  pass the interval ,so we have to reject H0 which means ${\\beta}_{0}$ and ${\\beta}_{1}$ are not equal 0. \n"
   ]
  },
  {
   "cell_type": "markdown",
   "metadata": {},
   "source": [
    "#### EX11"
   ]
  },
  {
   "cell_type": "code",
   "execution_count": 24,
   "metadata": {},
   "outputs": [
    {
     "name": "stdout",
     "output_type": "stream",
     "text": [
      "investment_ log2 :\n",
      "  5.01598373048\n",
      "investment 2 : \n",
      "  150.804414721\n"
     ]
    }
   ],
   "source": [
    "#investment_log2 = b0 + b1*gnp_log_value+b2*10 #gnp_log_value =log(1000)\n",
    "beta = np.array([b0,b1,b2]).T\n",
    "investment_log2 = np.dot([1,gnp_log_value,10],beta)\n",
    "print('investment_ log2 :\\n ',investment_log2)\n",
    "print('investment 2 : \\n ', np.exp(investment_log2))"
   ]
  },
  {
   "cell_type": "code",
   "execution_count": 25,
   "metadata": {},
   "outputs": [
    {
     "name": "stdout",
     "output_type": "stream",
     "text": [
      "quantile2 :\n",
      " 4.31779128361\n"
     ]
    }
   ],
   "source": [
    "alpha2 = 0.001\n",
    "quantile2 = t.ppf(1-alpha2/2,df=n-(2+1))\n",
    "print(\"quantile2 :\\n\",quantile2)\n"
   ]
  },
  {
   "cell_type": "code",
   "execution_count": 26,
   "metadata": {},
   "outputs": [
    {
     "name": "stdout",
     "output_type": "stream",
     "text": [
      "[  1.           6.90775528  10.        ]\n",
      "0.375799693795\n",
      "CI_left2 \n",
      "  4.64018403669\n",
      "CI_right2 \n",
      "  5.39178342428\n"
     ]
    }
   ],
   "source": [
    "x = np.array([1,gnp_log_value,10])\n",
    "print(x)\n",
    "CI_factor2 = quantile2*np.sqrt(np.dot(np.dot(sigma_square_new*x.T ,nl.inv(np.dot(X.T,X))),x))\n",
    "print(CI_factor2)\n",
    "CI_left2 = investment_log2 - CI_factor2\n",
    "print('CI_left2 \\n ', CI_left2)\n",
    "CI_right2= investment_log2 + CI_factor2\n",
    "print('CI_right2 \\n ',CI_right2)\n",
    "\n",
    "\n"
   ]
  },
  {
   "cell_type": "code",
   "execution_count": 27,
   "metadata": {},
   "outputs": [
    {
     "name": "stdout",
     "output_type": "stream",
     "text": [
      "[  1.           6.90775528  10.        ]\n",
      "0.542180386842\n",
      "PI_left2 \n",
      "  4.47380334364\n",
      "PI_right2 \n",
      "  5.55816411733\n"
     ]
    }
   ],
   "source": [
    "X0 = np.vstack((np.array([1]*len(invest_log)),gnp_log.values,interest.values))\n",
    "X  = np.transpose(X0)\n",
    "x = np.array([1,np.log(1000),10])\n",
    "print(x)\n",
    "PI_factor2 = quantile2*np.sqrt(sigma_square_new+np.dot(np.dot(sigma_square_new*x.T ,nl.inv(np.dot(X.T,X))),x))\n",
    "print(PI_factor2)\n",
    "PI_left2 = investment_log2 - PI_factor2\n",
    "print('PI_left2 \\n ', PI_left2)\n",
    "PI_right2= investment_log2 + PI_factor2\n",
    "print('PI_right2 \\n ',PI_right2)"
   ]
  },
  {
   "cell_type": "markdown",
   "metadata": {},
   "source": [
    "#### EX12"
   ]
  },
  {
   "cell_type": "code",
   "execution_count": 28,
   "metadata": {},
   "outputs": [],
   "source": [
    "# calculate each pair\n",
    "def CI_factor2(X):\n",
    "    a = []\n",
    "    for i in range(15):\n",
    "        b = quantile2 * np.sqrt(np.dot(np.dot(sigma_square_new*X[i].T ,nl.inv(np.dot(X.T,X))),X[i]))\n",
    "        a.append(b)\n",
    "    return a\n",
    "def PI_factor2(X):\n",
    "    a = []\n",
    "    for i in range(15):\n",
    "        b = quantile2*np.sqrt(sigma_square_new+np.dot(np.dot(sigma_square_new*X[i].T ,nl.inv(np.dot(X.T,X))),X[i]))\n",
    "        a.append(b)\n",
    "    return a \n",
    "\n",
    "\n",
    "\n",
    "\n"
   ]
  },
  {
   "cell_type": "code",
   "execution_count": 29,
   "metadata": {},
   "outputs": [
    {
     "data": {
      "image/png": "[encoded data removed]",
      "text/plain": [
       "<matplotlib.figure.Figure at 0x7f5df45a4390>"
      ]
     },
     "metadata": {
      "needs_background": "light"
     },
     "output_type": "display_data"
    }
   ],
   "source": [
    "from mpl_toolkits.mplot3d import Axes3D\n",
    "\n",
    "Z = b0 + b1*gnp_log.values + b2*interest.values \n",
    "Z_CI_left  = Z-CI_factor2(X)\n",
    "Z_CI_right  = Z+CI_factor2(X)\n",
    "Z_PI_left  = Z-PI_factor2(X)\n",
    "Z_PI_right  = Z+CI_factor2(X)\n",
    "fig = plt.figure()\n",
    "ax = Axes3D(fig)\n",
    "X_mesh, Y_mesh = np.meshgrid(gnp_log, interest)\n",
    "Z_mesh = b0 + b1*X_mesh +b2*Y_mesh\n",
    "CI_factor2_mesh  =  np.meshgrid(CI_factor2(X))\n",
    "PI_factor2_mesh  =  np.meshgrid(PI_factor2(X))\n",
    "\n",
    "ax.plot_surface(X_mesh, Y_mesh, Z_mesh, rstride=1, cstride=1)\n",
    "ax.plot3D(gnp_log,interest,invest_log,'o')\n",
    "ax.plot_surface(X_mesh, Y_mesh, Z_mesh-CI_factor2_mesh,label=\"confidence interval\",color='green')\n",
    "ax.plot_surface(X_mesh, Y_mesh, Z_mesh+CI_factor2_mesh,label=\"confidence interval\",color='green')\n",
    "\n",
    "ax.plot_surface(X_mesh, Y_mesh, Z_mesh-PI_factor2_mesh,label=\"predict interval\",color = 'yellow')\n",
    "ax.plot_surface(X_mesh, Y_mesh, Z_mesh+PI_factor2_mesh,label=\"predict interval\",color ='yellow')\n",
    "ax.set_xlabel(\"GNP\")\n",
    "ax.set_ylabel(\"Interest\")\n",
    "ax.set_zlabel(\"invest\")\n",
    "plt.show()"
   ]
  },
  {
   "cell_type": "markdown",
   "metadata": {},
   "source": [
    "The predict interval is represented by yellow surface.\n",
    "The confident interval is represented by blue surface.\n",
    "The regression plane is represented by blue surface."
   ]
  },
  {
   "cell_type": "markdown",
   "metadata": {},
   "source": [
    "#### EX13\n"
   ]
  },
  {
   "cell_type": "code",
   "execution_count": 30,
   "metadata": {},
   "outputs": [
    {
     "name": "stdout",
     "output_type": "stream",
     "text": [
      "b0 \n",
      " -2.18045472591\n",
      "b1 \n",
      " 1.05124269132\n",
      "b2 \n",
      " -0.00652887940607\n",
      "determination coefficient \n",
      " 0.963310830673\n"
     ]
    }
   ],
   "source": [
    "from sklearn.linear_model import LinearRegression\n",
    "x1x2 = np.transpose(np.vstack((gnp_log.values, interest.values)))\n",
    "model = LinearRegression()\n",
    "model.fit(x1x2, invest_log.values.reshape(-1,1))\n",
    "intercept_sk = model.intercept_[0]\n",
    "print('b0 \\n',intercept_sk)\n",
    "b1   = model.coef_[0][0]\n",
    "print('b1 \\n',b1)\n",
    "b2   = model.coef_[0][1]\n",
    "print('b2 \\n',b2)\n",
    "determination_sk = model.score(x1x2, invest_log)\n",
    "print('determination coefficient \\n',determination_sk)"
   ]
  },
  {
   "cell_type": "code",
   "execution_count": 31,
   "metadata": {},
   "outputs": [
    {
     "name": "stdout",
     "output_type": "stream",
     "text": [
      "[6.9077552789821368, 10]\n",
      "the prediction of investigation_log is \n",
      " [[ 5.01598373]]\n",
      "the prediction of investigatuon  is \n",
      " [[ 150.80441472]]\n"
     ]
    }
   ],
   "source": [
    "print([np.log(1000),10])\n",
    "predict = model.predict([[np.log(1000),10]])\n",
    "print('the prediction of investigation_log is \\n', predict)  \n",
    "print('the prediction of investigatuon  is \\n', np.exp(predict))"
   ]
  },
  {
   "cell_type": "markdown",
   "metadata": {},
   "source": [
    "We found that the estimated value coincide the value of the result by hand. \n"
   ]
  },
  {
   "cell_type": "code",
   "execution_count": null,
   "metadata": {
    "collapsed": true
   },
   "outputs": [],
   "source": []
  }
 ],
 "metadata": {
  "kernelspec": {
   "display_name": "Python 3",
   "language": "python",
   "name": "python3"
  },
  "language_info": {
   "codemirror_mode": {
    "name": "ipython",
    "version": 3
   },
   "file_extension": ".py",
   "mimetype": "text/x-python",
   "name": "python",
   "nbconvert_exporter": "python",
   "pygments_lexer": "ipython3",
   "version": "3.6.6"
  }
 },
 "nbformat": 4,
 "nbformat_minor": 2
}
